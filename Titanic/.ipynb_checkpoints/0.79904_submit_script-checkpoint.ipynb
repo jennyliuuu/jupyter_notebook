{
 "cells": [
  {
   "cell_type": "code",
   "execution_count": 286,
   "metadata": {
    "collapsed": true
   },
   "outputs": [],
   "source": [
    "from sklearn import preprocessing \n",
    "from sklearn.model_selection import GridSearchCV \n",
    "from sklearn.ensemble import RandomForestClassifier \n",
    "from sklearn.ensemble import RandomForestRegressor\n",
    "\n",
    "import warnings\n",
    "import pandas as pd\n",
    "import numpy as np\n",
    "import matplotlib.pyplot as plt\n",
    "import seaborn as sns\n",
    "\n",
    "%matplotlib inline\n",
    "pd.options.mode.chained_assignment = None"
   ]
  },
  {
   "cell_type": "code",
   "execution_count": 287,
   "metadata": {
    "collapsed": true
   },
   "outputs": [],
   "source": [
    "train = pd.read_csv(\"train.csv\")\n",
    "test = pd.read_csv(\"test.csv\")\n",
    "submit = pd.read_csv('gender_submission.csv')"
   ]
  },
  {
   "cell_type": "code",
   "execution_count": 288,
   "metadata": {
    "collapsed": true
   },
   "outputs": [],
   "source": [
    "data = train.append(test)\n",
    "data.reset_index(inplace=True, drop=True)"
   ]
  },
  {
   "cell_type": "code",
   "execution_count": 289,
   "metadata": {
    "collapsed": true
   },
   "outputs": [],
   "source": [
    "data['Family_Size'] = data['Parch'] + data['SibSp']"
   ]
  },
  {
   "cell_type": "code",
   "execution_count": 290,
   "metadata": {
    "collapsed": true
   },
   "outputs": [],
   "source": [
    "data['Title1'] = data['Name'].str.split(\", \", expand=True)[1]\n",
    "data['Title1'] = data['Title1'].str.split(\".\", expand=True)[0]\n",
    "#data['Title2'] = data['Title1'] \\\n",
    "#.replace(['Mlle','Mme','Ms','Dr','Major','Lady','the Countess','Jonkheer','Col','Rev','Capt','Sir','Don','Dona'],\n",
    "#         ['Miss','Mrs','Miss','Mr','Mr','Mrs','Mrs','Mr','Mr','Mr','Mr','Mr','Mr','Mrs'])"
   ]
  },
  {
   "cell_type": "code",
   "execution_count": 291,
   "metadata": {
    "collapsed": true
   },
   "outputs": [],
   "source": [
    "'''''\n",
    "data[\"Title2\"]=data[\"Title1\"].replace(['Mr','Don'],'Mr')\n",
    "data[\"Title2\"]=data[\"Title1\"].replace(['Mrs','Miss','Mme','Ms','Lady','Dona','Mlle'],'Ms')\n",
    "data[\"Title2\"]=data[\"Title1\"].replace(['Sir','Major','Col','Capt'],'Major')\n",
    "data[\"Title2\"]=data[\"Title1\"].replace(['Master','Jonkheer','the Countess'],'Jonkheer')\n",
    "#data[\"Title2\"]=data[\"Title1\"].replace(['Rev','Dr'],'Rev')\n"
   ]
  },
  {
   "cell_type": "code",
   "execution_count": 292,
   "metadata": {
    "collapsed": true
   },
   "outputs": [],
   "source": [
    "data['Ticket_info'] = \\\n",
    "data['Ticket'].apply(lambda x : x.replace(\".\",\"\").replace(\"/\",\"\").strip().split(' ')[0] if not x.isdigit() else 'X')"
   ]
  },
  {
   "cell_type": "code",
   "execution_count": 293,
   "metadata": {
    "collapsed": true
   },
   "outputs": [],
   "source": [
    "data['Embarked'] = data['Embarked'].fillna('S')"
   ]
  },
  {
   "cell_type": "code",
   "execution_count": 294,
   "metadata": {
    "collapsed": true
   },
   "outputs": [],
   "source": [
    "data['Fare'] = data['Fare'].fillna(data['Fare'].mean())"
   ]
  },
  {
   "cell_type": "code",
   "execution_count": 295,
   "metadata": {
    "collapsed": true
   },
   "outputs": [],
   "source": [
    "data[\"Cabin\"] = data['Cabin'].apply(lambda x : str(x)[0] if not pd.isnull(x) else 'NoCabin')"
   ]
  },
  {
   "cell_type": "code",
   "execution_count": 296,
   "metadata": {},
   "outputs": [
    {
     "data": {
      "text/html": [
       "<div>\n",
       "<style>\n",
       "    .dataframe thead tr:only-child th {\n",
       "        text-align: right;\n",
       "    }\n",
       "\n",
       "    .dataframe thead th {\n",
       "        text-align: left;\n",
       "    }\n",
       "\n",
       "    .dataframe tbody tr th {\n",
       "        vertical-align: top;\n",
       "    }\n",
       "</style>\n",
       "<table border=\"1\" class=\"dataframe\">\n",
       "  <thead>\n",
       "    <tr style=\"text-align: right;\">\n",
       "      <th></th>\n",
       "      <th>Age</th>\n",
       "      <th>Cabin</th>\n",
       "      <th>Embarked</th>\n",
       "      <th>Fare</th>\n",
       "      <th>Name</th>\n",
       "      <th>Parch</th>\n",
       "      <th>PassengerId</th>\n",
       "      <th>Pclass</th>\n",
       "      <th>Sex</th>\n",
       "      <th>SibSp</th>\n",
       "      <th>Survived</th>\n",
       "      <th>Ticket</th>\n",
       "      <th>Family_Size</th>\n",
       "      <th>Title1</th>\n",
       "      <th>Title2</th>\n",
       "      <th>Ticket_info</th>\n",
       "    </tr>\n",
       "  </thead>\n",
       "  <tbody>\n",
       "    <tr>\n",
       "      <th>0</th>\n",
       "      <td>22.0</td>\n",
       "      <td>7</td>\n",
       "      <td>2</td>\n",
       "      <td>7.2500</td>\n",
       "      <td>Braund, Mr. Owen Harris</td>\n",
       "      <td>0</td>\n",
       "      <td>1</td>\n",
       "      <td>2</td>\n",
       "      <td>1</td>\n",
       "      <td>1</td>\n",
       "      <td>0.0</td>\n",
       "      <td>A/5 21171</td>\n",
       "      <td>1</td>\n",
       "      <td>Mr</td>\n",
       "      <td>11</td>\n",
       "      <td>2</td>\n",
       "    </tr>\n",
       "    <tr>\n",
       "      <th>1</th>\n",
       "      <td>38.0</td>\n",
       "      <td>2</td>\n",
       "      <td>0</td>\n",
       "      <td>71.2833</td>\n",
       "      <td>Cumings, Mrs. John Bradley (Florence Briggs Th...</td>\n",
       "      <td>0</td>\n",
       "      <td>2</td>\n",
       "      <td>0</td>\n",
       "      <td>0</td>\n",
       "      <td>1</td>\n",
       "      <td>1.0</td>\n",
       "      <td>PC 17599</td>\n",
       "      <td>1</td>\n",
       "      <td>Mrs</td>\n",
       "      <td>12</td>\n",
       "      <td>14</td>\n",
       "    </tr>\n",
       "    <tr>\n",
       "      <th>2</th>\n",
       "      <td>26.0</td>\n",
       "      <td>7</td>\n",
       "      <td>2</td>\n",
       "      <td>7.9250</td>\n",
       "      <td>Heikkinen, Miss. Laina</td>\n",
       "      <td>0</td>\n",
       "      <td>3</td>\n",
       "      <td>2</td>\n",
       "      <td>0</td>\n",
       "      <td>0</td>\n",
       "      <td>1.0</td>\n",
       "      <td>STON/O2. 3101282</td>\n",
       "      <td>0</td>\n",
       "      <td>Miss</td>\n",
       "      <td>8</td>\n",
       "      <td>31</td>\n",
       "    </tr>\n",
       "    <tr>\n",
       "      <th>3</th>\n",
       "      <td>35.0</td>\n",
       "      <td>2</td>\n",
       "      <td>2</td>\n",
       "      <td>53.1000</td>\n",
       "      <td>Futrelle, Mrs. Jacques Heath (Lily May Peel)</td>\n",
       "      <td>0</td>\n",
       "      <td>4</td>\n",
       "      <td>0</td>\n",
       "      <td>0</td>\n",
       "      <td>1</td>\n",
       "      <td>1.0</td>\n",
       "      <td>113803</td>\n",
       "      <td>1</td>\n",
       "      <td>Mrs</td>\n",
       "      <td>12</td>\n",
       "      <td>36</td>\n",
       "    </tr>\n",
       "    <tr>\n",
       "      <th>4</th>\n",
       "      <td>35.0</td>\n",
       "      <td>7</td>\n",
       "      <td>2</td>\n",
       "      <td>8.0500</td>\n",
       "      <td>Allen, Mr. William Henry</td>\n",
       "      <td>0</td>\n",
       "      <td>5</td>\n",
       "      <td>2</td>\n",
       "      <td>1</td>\n",
       "      <td>0</td>\n",
       "      <td>0.0</td>\n",
       "      <td>373450</td>\n",
       "      <td>0</td>\n",
       "      <td>Mr</td>\n",
       "      <td>11</td>\n",
       "      <td>36</td>\n",
       "    </tr>\n",
       "  </tbody>\n",
       "</table>\n",
       "</div>"
      ],
      "text/plain": [
       "    Age  Cabin  Embarked     Fare  \\\n",
       "0  22.0      7         2   7.2500   \n",
       "1  38.0      2         0  71.2833   \n",
       "2  26.0      7         2   7.9250   \n",
       "3  35.0      2         2  53.1000   \n",
       "4  35.0      7         2   8.0500   \n",
       "\n",
       "                                                Name  Parch  PassengerId  \\\n",
       "0                            Braund, Mr. Owen Harris      0            1   \n",
       "1  Cumings, Mrs. John Bradley (Florence Briggs Th...      0            2   \n",
       "2                             Heikkinen, Miss. Laina      0            3   \n",
       "3       Futrelle, Mrs. Jacques Heath (Lily May Peel)      0            4   \n",
       "4                           Allen, Mr. William Henry      0            5   \n",
       "\n",
       "   Pclass  Sex  SibSp  Survived            Ticket  Family_Size Title1  Title2  \\\n",
       "0       2    1      1       0.0         A/5 21171            1     Mr      11   \n",
       "1       0    0      1       1.0          PC 17599            1    Mrs      12   \n",
       "2       2    0      0       1.0  STON/O2. 3101282            0   Miss       8   \n",
       "3       0    0      1       1.0            113803            1    Mrs      12   \n",
       "4       2    1      0       0.0            373450            0     Mr      11   \n",
       "\n",
       "   Ticket_info  \n",
       "0            2  \n",
       "1           14  \n",
       "2           31  \n",
       "3           36  \n",
       "4           36  "
      ]
     },
     "execution_count": 296,
     "metadata": {},
     "output_type": "execute_result"
    }
   ],
   "source": [
    "# Label Encoding : http://pbpython.com/categorical-encoding.html\n",
    "data['Sex'] = data['Sex'].astype('category').cat.codes\n",
    "data['Embarked'] = data['Embarked'].astype('category').cat.codes\n",
    "data['Pclass'] = data['Pclass'].astype('category').cat.codes\n",
    "data['Title2'] = data['Title2'].astype('category').cat.codes\n",
    "data['Cabin'] = data['Cabin'].astype('category').cat.codes\n",
    "data['Ticket_info'] = data['Ticket_info'].astype('category').cat.codes\n",
    "data.head(5)"
   ]
  },
  {
   "cell_type": "code",
   "execution_count": 297,
   "metadata": {},
   "outputs": [
    {
     "name": "stdout",
     "output_type": "stream",
     "text": [
      "               Age        Cabin     Embarked         Fare        Parch  \\\n",
      "count  1046.000000  1309.000000  1309.000000  1309.000000  1309.000000   \n",
      "mean     29.881138     5.955691     1.493506    33.295479     0.385027   \n",
      "std      14.413493     2.057178     0.814244    51.738879     0.865560   \n",
      "min       0.170000     0.000000     0.000000     0.000000     0.000000   \n",
      "25%      21.000000     7.000000     1.000000     7.895800     0.000000   \n",
      "50%      28.000000     7.000000     2.000000    14.454200     0.000000   \n",
      "75%      39.000000     7.000000     2.000000    31.275000     0.000000   \n",
      "max      80.000000     8.000000     2.000000   512.329200     9.000000   \n",
      "\n",
      "       PassengerId       Pclass          Sex        SibSp    Survived  \\\n",
      "count  1309.000000  1309.000000  1309.000000  1309.000000  891.000000   \n",
      "mean    655.000000     1.294882     0.644003     0.498854    0.383838   \n",
      "std     378.020061     0.837836     0.478997     1.041658    0.486592   \n",
      "min       1.000000     0.000000     0.000000     0.000000    0.000000   \n",
      "25%     328.000000     1.000000     0.000000     0.000000    0.000000   \n",
      "50%     655.000000     2.000000     1.000000     0.000000    0.000000   \n",
      "75%     982.000000     2.000000     1.000000     1.000000    1.000000   \n",
      "max    1309.000000     2.000000     1.000000     8.000000    1.000000   \n",
      "\n",
      "       Family_Size       Title2  Ticket_info  \n",
      "count  1309.000000  1309.000000  1309.000000  \n",
      "mean      0.883881    10.181818    30.428571  \n",
      "std       1.583639     1.984020    10.479504  \n",
      "min       0.000000     0.000000     0.000000  \n",
      "25%       0.000000     8.000000    31.000000  \n",
      "50%       0.000000    11.000000    36.000000  \n",
      "75%       1.000000    11.000000    36.000000  \n",
      "max      10.000000    15.000000    36.000000  \n"
     ]
    }
   ],
   "source": [
    "dataAgeNull = data[data[\"Age\"].isnull()]\n",
    "dataAgeNotNull = data[data[\"Age\"].notnull()]\n",
    "print(data.describe())\n",
    "\n",
    "remove_outlier = \\\n",
    "dataAgeNotNull[~((np.abs(dataAgeNotNull[\"Fare\"]-dataAgeNotNull[\"Fare\"].mean())>(4*dataAgeNotNull[\"Fare\"].std()))|\n",
    "(np.abs(dataAgeNotNull[\"Ticket_info\"]-dataAgeNotNull[\"Ticket_info\"].mean())>(4*dataAgeNotNull[\"Ticket_info\"].std())))]\n",
    "\n",
    "\n",
    "\n",
    "rfModel_age = RandomForestRegressor(n_estimators=2000,random_state=42)\n",
    "ageColumns = ['Embarked', 'Fare', 'Pclass', 'Sex', 'Family_Size', 'Title2','Cabin','Ticket_info']\n",
    "rfModel_age.fit(remove_outlier[ageColumns], remove_outlier[\"Age\"])\n",
    "\n",
    "\n",
    "ageNullValues = rfModel_age.predict(X= dataAgeNull[ageColumns])\n",
    "dataAgeNull.loc[:,\"Age\"] = ageNullValues\n",
    "data = dataAgeNull.append(dataAgeNotNull)\n",
    "data.reset_index(inplace=True, drop=True)"
   ]
  },
  {
   "cell_type": "code",
   "execution_count": 298,
   "metadata": {
    "collapsed": true
   },
   "outputs": [],
   "source": [
    "dataTrain = data[data['Survived'].notnull()].sort_values(by=[\"PassengerId\"])\n",
    "dataTest = data[data['Survived'].isnull()].sort_values(by=[\"PassengerId\"])"
   ]
  },
  {
   "cell_type": "code",
   "execution_count": 299,
   "metadata": {
    "collapsed": true
   },
   "outputs": [],
   "source": [
    "dataTrain = dataTrain[['Survived', 'Age', 'Embarked', 'Fare',  'Pclass', 'Sex', 'Family_Size', 'Title2','Ticket_info','Cabin']]\n",
    "dataTest = dataTest[['Age', 'Embarked', 'Fare', 'Pclass', 'Sex', 'Family_Size', 'Title2','Ticket_info','Cabin']]"
   ]
  },
  {
   "cell_type": "code",
   "execution_count": 300,
   "metadata": {
    "collapsed": true
   },
   "outputs": [],
   "source": [
    "from sklearn.ensemble import RandomForestClassifier\n",
    "from sklearn import metrics, cross_validation\n",
    "from sklearn.cross_validation import train_test_split\n",
    " \n",
    "rf = RandomForestClassifier(criterion='gini', \n",
    "                             n_estimators=1000,\n",
    "                             min_samples_split=12,\n",
    "                             min_samples_leaf=1,\n",
    "                             oob_score=True,\n",
    "                             random_state=1,\n",
    "                             n_jobs=-1) \n"
   ]
  },
  {
   "cell_type": "code",
   "execution_count": 301,
   "metadata": {},
   "outputs": [
    {
     "data": {
      "text/plain": [
       "0.83057059357621144"
      ]
     },
     "execution_count": 301,
     "metadata": {},
     "output_type": "execute_result"
    }
   ],
   "source": [
    "from sklearn.model_selection import cross_val_score\n",
    "scores = cross_val_score(rf, dataTrain.iloc[:, 1:], dataTrain.iloc[:, 0], cv=10)\n",
    "scores.mean()"
   ]
  },
  {
   "cell_type": "code",
   "execution_count": 302,
   "metadata": {},
   "outputs": [
    {
     "data": {
      "text/plain": [
       "0.83052749719416386"
      ]
     },
     "execution_count": 302,
     "metadata": {},
     "output_type": "execute_result"
    }
   ],
   "source": [
    "from sklearn.model_selection import cross_val_predict\n",
    "predicted = cross_val_predict(rf, dataTrain.iloc[:, 1:], dataTrain.iloc[:, 0], cv=10)\n",
    "metrics.accuracy_score(dataTrain.iloc[:, 0], predicted)"
   ]
  },
  {
   "cell_type": "code",
   "execution_count": 303,
   "metadata": {},
   "outputs": [
    {
     "name": "stdout",
     "output_type": "stream",
     "text": [
      "             precision    recall  f1-score   support\n",
      "\n",
      "        0.0       0.84      0.90      0.87       138\n",
      "        1.0       0.81      0.72      0.76        85\n",
      "\n",
      "avg / total       0.83      0.83      0.83       223\n",
      "\n"
     ]
    }
   ],
   "source": [
    "\n",
    "X_train, X_test, y_train, y_test = train_test_split(dataTrain.iloc[:, 1:], dataTrain.iloc[:, 0])\n",
    "rf.fit(X_train, y_train)\n",
    "rf_res =  rf.predict(X_test)\n",
    "print(metrics.classification_report(y_test, rf_res))\n"
   ]
  },
  {
   "cell_type": "code",
   "execution_count": 304,
   "metadata": {},
   "outputs": [
    {
     "name": "stdout",
     "output_type": "stream",
     "text": [
      "     PassengerId  Survived\n",
      "0            892       0.0\n",
      "1            893       0.0\n",
      "2            894       0.0\n",
      "3            895       0.0\n",
      "4            896       1.0\n",
      "5            897       0.0\n",
      "6            898       0.0\n",
      "7            899       0.0\n",
      "8            900       1.0\n",
      "9            901       0.0\n",
      "10           902       0.0\n",
      "11           903       0.0\n",
      "12           904       1.0\n",
      "13           905       0.0\n",
      "14           906       1.0\n",
      "15           907       1.0\n",
      "16           908       0.0\n",
      "17           909       0.0\n",
      "18           910       0.0\n",
      "19           911       1.0\n",
      "20           912       0.0\n",
      "21           913       1.0\n",
      "22           914       1.0\n",
      "23           915       0.0\n",
      "24           916       1.0\n",
      "25           917       0.0\n",
      "26           918       1.0\n",
      "27           919       0.0\n",
      "28           920       0.0\n",
      "29           921       0.0\n",
      "..           ...       ...\n",
      "388         1280       0.0\n",
      "389         1281       0.0\n",
      "390         1282       0.0\n",
      "391         1283       1.0\n",
      "392         1284       1.0\n",
      "393         1285       0.0\n",
      "394         1286       0.0\n",
      "395         1287       1.0\n",
      "396         1288       0.0\n",
      "397         1289       1.0\n",
      "398         1290       0.0\n",
      "399         1291       0.0\n",
      "400         1292       1.0\n",
      "401         1293       0.0\n",
      "402         1294       1.0\n",
      "403         1295       0.0\n",
      "404         1296       0.0\n",
      "405         1297       0.0\n",
      "406         1298       0.0\n",
      "407         1299       0.0\n",
      "408         1300       1.0\n",
      "409         1301       1.0\n",
      "410         1302       1.0\n",
      "411         1303       1.0\n",
      "412         1304       0.0\n",
      "413         1305       0.0\n",
      "414         1306       1.0\n",
      "415         1307       0.0\n",
      "416         1308       0.0\n",
      "417         1309       1.0\n",
      "\n",
      "[418 rows x 2 columns]\n"
     ]
    }
   ],
   "source": [
    "#print(submit)                        # submit = pd.read_csv('Titanic/gender_submission.csv')\n",
    "rf.fit(dataTrain.iloc[:, 1:], dataTrain.iloc[:, 0])\n",
    "rf_res =  rf.predict(dataTest)\n",
    "submit['Survived'] = rf_res        \n",
    "print(submit)\n",
    "submit['Survived'] = submit['Survived'].astype(int)\n",
    "submit.to_csv('submit.csv', index= False)"
   ]
  }
 ],
 "metadata": {
  "kernelspec": {
   "display_name": "Python 3",
   "language": "python",
   "name": "python3"
  },
  "language_info": {
   "codemirror_mode": {
    "name": "ipython",
    "version": 3
   },
   "file_extension": ".py",
   "mimetype": "text/x-python",
   "name": "python",
   "nbconvert_exporter": "python",
   "pygments_lexer": "ipython3",
   "version": "3.6.3"
  }
 },
 "nbformat": 4,
 "nbformat_minor": 2
}
