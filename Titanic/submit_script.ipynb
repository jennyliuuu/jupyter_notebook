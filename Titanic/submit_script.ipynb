{
 "cells": [
  {
   "cell_type": "code",
   "execution_count": 250,
   "metadata": {
    "collapsed": true
   },
   "outputs": [],
   "source": [
    "from sklearn import preprocessing \n",
    "from sklearn.model_selection import GridSearchCV \n",
    "from sklearn.ensemble import RandomForestClassifier \n",
    "from sklearn.ensemble import RandomForestRegressor\n",
    "\n",
    "import warnings\n",
    "import pandas as pd\n",
    "import numpy as np\n",
    "import matplotlib.pyplot as plt\n",
    "import seaborn as sns\n",
    "\n",
    "%matplotlib inline\n",
    "pd.options.mode.chained_assignment = None"
   ]
  },
  {
   "cell_type": "code",
   "execution_count": 251,
   "metadata": {
    "collapsed": true
   },
   "outputs": [],
   "source": [
    "train = pd.read_csv(\"train.csv\")\n",
    "test = pd.read_csv(\"test.csv\")\n",
    "submit = pd.read_csv('gender_submission.csv')"
   ]
  },
  {
   "cell_type": "code",
   "execution_count": 252,
   "metadata": {},
   "outputs": [
    {
     "data": {
      "text/plain": [
       "(1309, 12)"
      ]
     },
     "execution_count": 252,
     "metadata": {},
     "output_type": "execute_result"
    }
   ],
   "source": [
    "data_combine = train.append(test)\n",
    "data_combine.reset_index(inplace=True, drop=True)\n",
    "data_combine.shape"
   ]
  },
  {
   "cell_type": "markdown",
   "metadata": {},
   "source": [
    "## Feature engineering"
   ]
  },
  {
   "cell_type": "code",
   "execution_count": 253,
   "metadata": {},
   "outputs": [
    {
     "data": {
      "text/plain": [
       "(1309, 11)"
      ]
     },
     "execution_count": 253,
     "metadata": {},
     "output_type": "execute_result"
    }
   ],
   "source": [
    "# combine SibSp and Parch\n",
    "data_combine['family'] = data_combine['SibSp'] + data_combine['Parch']\n",
    "data_combine.drop('SibSp', 1, inplace=True)\n",
    "data_combine.drop('Parch', 1, inplace=True)\n",
    "data_combine.shape"
   ]
  },
  {
   "cell_type": "code",
   "execution_count": 254,
   "metadata": {
    "collapsed": true
   },
   "outputs": [],
   "source": [
    "data_combine['Ticket_info'] = \\\n",
    "data_combine['Ticket'].apply(lambda x : x.replace(\".\",\"\").replace(\"/\",\"\").strip().split(' ')[0] if not x.isdigit() else 'X')"
   ]
  },
  {
   "cell_type": "code",
   "execution_count": 255,
   "metadata": {
    "collapsed": true
   },
   "outputs": [],
   "source": [
    "# Fare fillna with mean\n",
    "data_combine['Fare'] = data_combine['Fare'].fillna(data_combine['Fare'].mean())"
   ]
  },
  {
   "cell_type": "code",
   "execution_count": 256,
   "metadata": {
    "collapsed": true
   },
   "outputs": [],
   "source": [
    "# Embarked fillna with C\n",
    "data_combine['Embarked'] = data_combine['Embarked'].fillna(\"C\")"
   ]
  },
  {
   "cell_type": "code",
   "execution_count": 257,
   "metadata": {},
   "outputs": [],
   "source": [
    "# Cabin fillna\n",
    "'''\n",
    "mask = (data_combine[\"Survived\"]==0.0) & (data_combine[\"Cabin\"].isnull())\n",
    "data_combine.loc[mask, \"Cabin\"] = \"G\"\n",
    "\n",
    "mask = (data_combine[\"Survived\"]==1.0) & (data_combine[\"Cabin\"].isnull())\n",
    "data_combine.loc[mask, \"Cabin\"] = \"B\"\n",
    "\n",
    "mask = (data_combine[\"Survived\"].isnull()) & (data_combine[\"Cabin\"].isnull()) & (data_combine[\"Pclass\"] == 1)\n",
    "data_combine.loc[mask, \"Cabin\"] = \"B\"\n",
    "\n",
    "mask = (data_combine[\"Survived\"].isnull()) & (data_combine[\"Cabin\"].isnull()) & (data_combine[\"Pclass\"] == 2)\n",
    "data_combine.loc[mask, \"Cabin\"] = \"F\"\n",
    "\n",
    "mask = (data_combine[\"Survived\"].isnull()) & (data_combine[\"Cabin\"].isnull()) & (data_combine[\"Pclass\"] == 3)\n",
    "data_combine.loc[mask, \"Cabin\"] = \"G\"\n",
    "\n",
    "data_combine[\"Cabin\"] = data_combine['Cabin'].apply(lambda x : str(x)[0])\n",
    "'''\n",
    "data_combine[\"Cabin\"] = data_combine['Cabin'].apply(lambda x : str(x)[0] if not pd.isnull(x) else 'NoCabin')\n",
    "# data_combine['Cabin']"
   ]
  },
  {
   "cell_type": "code",
   "execution_count": 258,
   "metadata": {},
   "outputs": [],
   "source": [
    "# Name\n",
    "'''\n",
    "for typeName in [\"Ms.\", \"Miss.\", \"Mr.\", \"Master.\", \"Mme.\"]:\n",
    "   \n",
    "    mask =  (data_combine['Name'].str.contains(typeName))\n",
    "    replaceTitle = typeName\n",
    "        \n",
    "    if(typeName==\"Mme.\"):\n",
    "        replaceTitle = \"Ms.\"\n",
    "        \n",
    "    data_combine.loc[mask,'Title'] = replaceTitle\n",
    "    \n",
    "mask = data_combine[\"Title\"].isnull() & (data_combine['Age']<14) & (data_combine['Sex']=='male')\n",
    "data_combine.loc[mask, \"Title\"] = \"Master.\"\n",
    "\n",
    "mask = data_combine[\"Title\"].isnull() & (data_combine['Age']>13) & (data_combine['Sex']=='male')\n",
    "data_combine.loc[mask, \"Title\"] = \"Mr.\"\n",
    "\n",
    "mask = data_combine[\"Title\"].isnull() & (data_combine['Sex']=='female')\n",
    "data_combine.loc[mask, \"Title\"] = \"Miss.\"\n",
    "\n",
    "data_combine.drop('Name',axis=1,inplace=True)\n",
    "'''\n",
    "data_combine['Title1'] = data_combine['Name'].str.split(\", \", expand=True)[1]\n",
    "data_combine['Title1'] = data_combine['Title1'].str.split(\".\", expand=True)[0]\n",
    "data_combine['Title'] = data_combine['Title1'] \\\n",
    ".replace(['Mlle','Mme','Ms','Dr','Major','Lady','the Countess','Jonkheer','Col','Rev','Capt','Sir','Don','Dona'],\n",
    "         ['Miss','Mrs','Miss','Mr','Mr','Mrs','Mrs','Mr','Mr','Mr','Mr','Mr','Mr','Mrs'])"
   ]
  },
  {
   "cell_type": "code",
   "execution_count": 259,
   "metadata": {},
   "outputs": [
    {
     "data": {
      "text/html": [
       "<div>\n",
       "<style>\n",
       "    .dataframe thead tr:only-child th {\n",
       "        text-align: right;\n",
       "    }\n",
       "\n",
       "    .dataframe thead th {\n",
       "        text-align: left;\n",
       "    }\n",
       "\n",
       "    .dataframe tbody tr th {\n",
       "        vertical-align: top;\n",
       "    }\n",
       "</style>\n",
       "<table border=\"1\" class=\"dataframe\">\n",
       "  <thead>\n",
       "    <tr style=\"text-align: right;\">\n",
       "      <th></th>\n",
       "      <th>Age</th>\n",
       "      <th>Cabin</th>\n",
       "      <th>Embarked</th>\n",
       "      <th>Fare</th>\n",
       "      <th>Name</th>\n",
       "      <th>PassengerId</th>\n",
       "      <th>Pclass</th>\n",
       "      <th>Sex</th>\n",
       "      <th>Survived</th>\n",
       "      <th>Ticket</th>\n",
       "      <th>family</th>\n",
       "      <th>Ticket_info</th>\n",
       "      <th>Title1</th>\n",
       "      <th>Title</th>\n",
       "    </tr>\n",
       "  </thead>\n",
       "  <tbody>\n",
       "    <tr>\n",
       "      <th>0</th>\n",
       "      <td>22.0</td>\n",
       "      <td>7</td>\n",
       "      <td>2</td>\n",
       "      <td>7.2500</td>\n",
       "      <td>Braund, Mr. Owen Harris</td>\n",
       "      <td>1</td>\n",
       "      <td>2</td>\n",
       "      <td>1</td>\n",
       "      <td>0.0</td>\n",
       "      <td>A/5 21171</td>\n",
       "      <td>1</td>\n",
       "      <td>2</td>\n",
       "      <td>Mr</td>\n",
       "      <td>2</td>\n",
       "    </tr>\n",
       "    <tr>\n",
       "      <th>1</th>\n",
       "      <td>38.0</td>\n",
       "      <td>2</td>\n",
       "      <td>0</td>\n",
       "      <td>71.2833</td>\n",
       "      <td>Cumings, Mrs. John Bradley (Florence Briggs Th...</td>\n",
       "      <td>2</td>\n",
       "      <td>0</td>\n",
       "      <td>0</td>\n",
       "      <td>1.0</td>\n",
       "      <td>PC 17599</td>\n",
       "      <td>1</td>\n",
       "      <td>14</td>\n",
       "      <td>Mrs</td>\n",
       "      <td>3</td>\n",
       "    </tr>\n",
       "    <tr>\n",
       "      <th>2</th>\n",
       "      <td>26.0</td>\n",
       "      <td>7</td>\n",
       "      <td>2</td>\n",
       "      <td>7.9250</td>\n",
       "      <td>Heikkinen, Miss. Laina</td>\n",
       "      <td>3</td>\n",
       "      <td>2</td>\n",
       "      <td>0</td>\n",
       "      <td>1.0</td>\n",
       "      <td>STON/O2. 3101282</td>\n",
       "      <td>0</td>\n",
       "      <td>31</td>\n",
       "      <td>Miss</td>\n",
       "      <td>1</td>\n",
       "    </tr>\n",
       "    <tr>\n",
       "      <th>3</th>\n",
       "      <td>35.0</td>\n",
       "      <td>2</td>\n",
       "      <td>2</td>\n",
       "      <td>53.1000</td>\n",
       "      <td>Futrelle, Mrs. Jacques Heath (Lily May Peel)</td>\n",
       "      <td>4</td>\n",
       "      <td>0</td>\n",
       "      <td>0</td>\n",
       "      <td>1.0</td>\n",
       "      <td>113803</td>\n",
       "      <td>1</td>\n",
       "      <td>36</td>\n",
       "      <td>Mrs</td>\n",
       "      <td>3</td>\n",
       "    </tr>\n",
       "    <tr>\n",
       "      <th>4</th>\n",
       "      <td>35.0</td>\n",
       "      <td>7</td>\n",
       "      <td>2</td>\n",
       "      <td>8.0500</td>\n",
       "      <td>Allen, Mr. William Henry</td>\n",
       "      <td>5</td>\n",
       "      <td>2</td>\n",
       "      <td>1</td>\n",
       "      <td>0.0</td>\n",
       "      <td>373450</td>\n",
       "      <td>0</td>\n",
       "      <td>36</td>\n",
       "      <td>Mr</td>\n",
       "      <td>2</td>\n",
       "    </tr>\n",
       "  </tbody>\n",
       "</table>\n",
       "</div>"
      ],
      "text/plain": [
       "    Age  Cabin  Embarked     Fare  \\\n",
       "0  22.0      7         2   7.2500   \n",
       "1  38.0      2         0  71.2833   \n",
       "2  26.0      7         2   7.9250   \n",
       "3  35.0      2         2  53.1000   \n",
       "4  35.0      7         2   8.0500   \n",
       "\n",
       "                                                Name  PassengerId  Pclass  \\\n",
       "0                            Braund, Mr. Owen Harris            1       2   \n",
       "1  Cumings, Mrs. John Bradley (Florence Briggs Th...            2       0   \n",
       "2                             Heikkinen, Miss. Laina            3       2   \n",
       "3       Futrelle, Mrs. Jacques Heath (Lily May Peel)            4       0   \n",
       "4                           Allen, Mr. William Henry            5       2   \n",
       "\n",
       "   Sex  Survived            Ticket  family  Ticket_info Title1  Title  \n",
       "0    1       0.0         A/5 21171       1            2     Mr      2  \n",
       "1    0       1.0          PC 17599       1           14    Mrs      3  \n",
       "2    0       1.0  STON/O2. 3101282       0           31   Miss      1  \n",
       "3    0       1.0            113803       1           36    Mrs      3  \n",
       "4    1       0.0            373450       0           36     Mr      2  "
      ]
     },
     "execution_count": 259,
     "metadata": {},
     "output_type": "execute_result"
    }
   ],
   "source": [
    "# Label Encoding : http://pbpython.com/categorical-encoding.html\n",
    "data_combine['Sex'] = data_combine['Sex'].astype('category').cat.codes\n",
    "data_combine['Embarked'] = data_combine['Embarked'].astype('category').cat.codes\n",
    "data_combine['Pclass'] = data_combine['Pclass'].astype('category').cat.codes\n",
    "data_combine['Title'] = data_combine['Title'].astype('category').cat.codes\n",
    "data_combine['Cabin'] = data_combine['Cabin'].astype('category').cat.codes\n",
    "data_combine['Ticket_info'] = data_combine['Ticket_info'].astype('category').cat.codes\n",
    "data_combine.head(5)"
   ]
  },
  {
   "cell_type": "code",
   "execution_count": 260,
   "metadata": {},
   "outputs": [],
   "source": [
    "# Age\n",
    "dataAgeNull = data_combine[data_combine[\"Age\"].isnull()]\n",
    "dataAgeNotNull = data_combine[data_combine[\"Age\"].notnull()]\n",
    "\n",
    "remove_outlier = \\\n",
    "dataAgeNotNull[~((np.abs(dataAgeNotNull[\"Fare\"]-dataAgeNotNull[\"Fare\"].mean())>(4*dataAgeNotNull[\"Fare\"].std()))|\n",
    "(np.abs(dataAgeNotNull[\"Ticket_info\"]-dataAgeNotNull[\"Ticket_info\"].mean())>(4*dataAgeNotNull[\"Ticket_info\"].std())))]\n",
    "\n",
    "\n",
    "rfModel_age = RandomForestRegressor(n_estimators=2000,random_state=42)\n",
    "\n",
    "ageColumns = ['Embarked', 'Fare', 'Pclass', 'Sex', 'family', 'Title','Cabin','Ticket_info']\n",
    "rfModel_age.fit(remove_outlier[ageColumns], remove_outlier[\"Age\"])\n",
    "\n",
    "ageNullValues = rfModel_age.predict(X= dataAgeNull[ageColumns])\n",
    "dataAgeNull.loc[:,\"Age\"] = ageNullValues\n",
    "data_combine = dataAgeNull.append(dataAgeNotNull)\n",
    "data_combine.reset_index(inplace=True, drop=True)\n",
    "\n",
    "#print(data_combine.describe())"
   ]
  },
  {
   "cell_type": "code",
   "execution_count": 261,
   "metadata": {
    "collapsed": true
   },
   "outputs": [],
   "source": [
    "# train\n",
    "dataTrain = data_combine[data_combine['Survived'].notnull()].sort_values(by=[\"PassengerId\"])\n",
    "dataTest = data_combine[data_combine['Survived'].isnull()].sort_values(by=[\"PassengerId\"])\n",
    "\n",
    "dataTrain = dataTrain[['Survived', 'Age', 'Embarked', 'Fare',  'Pclass', 'Sex', 'family', 'Title','Ticket_info','Cabin']]\n",
    "dataTest = dataTest[['Age', 'Embarked', 'Fare', 'Pclass', 'Sex', 'family', 'Title','Ticket_info','Cabin']]"
   ]
  },
  {
   "cell_type": "code",
   "execution_count": 262,
   "metadata": {},
   "outputs": [
    {
     "name": "stdout",
     "output_type": "stream",
     "text": [
      "0.8328\n"
     ]
    }
   ],
   "source": [
    "from sklearn.ensemble import RandomForestClassifier\n",
    "from sklearn import metrics, cross_validation\n",
    " \n",
    "rf = RandomForestClassifier(criterion='gini', \n",
    "                             n_estimators=2000,\n",
    "                             min_samples_split=12,\n",
    "                             min_samples_leaf=1,\n",
    "                             oob_score=True,\n",
    "                             random_state=4,\n",
    "                             n_jobs=-1) \n",
    "\n",
    "rf.fit(dataTrain.iloc[:, 1:], dataTrain.iloc[:, 0])\n",
    "\n",
    "print(\"%.4f\" % rf.oob_score_)   #maybe he higher the beter"
   ]
  },
  {
   "cell_type": "code",
   "execution_count": 263,
   "metadata": {},
   "outputs": [
    {
     "name": "stdout",
     "output_type": "stream",
     "text": [
      "(418,)\n",
      "(418,)\n"
     ]
    }
   ],
   "source": [
    "rf_res =  rf.predict(dataTest)\n",
    "print(rf_res.shape)\n",
    "print(submit['Survived'].shape)      \n",
    "\n",
    "submit['Survived'] = submit['Survived'].astype(int)\n",
    "submit.to_csv('submit.csv', index= False)"
   ]
  }
 ],
 "metadata": {
  "kernelspec": {
   "display_name": "Python 3",
   "language": "python",
   "name": "python3"
  },
  "language_info": {
   "codemirror_mode": {
    "name": "ipython",
    "version": 3
   },
   "file_extension": ".py",
   "mimetype": "text/x-python",
   "name": "python",
   "nbconvert_exporter": "python",
   "pygments_lexer": "ipython3",
   "version": "3.6.3"
  }
 },
 "nbformat": 4,
 "nbformat_minor": 2
}
