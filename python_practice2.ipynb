{
 "cells": [
  {
   "cell_type": "code",
   "execution_count": 24,
   "metadata": {},
   "outputs": [
    {
     "name": "stdout",
     "output_type": "stream",
     "text": [
      "[[1 2]\n",
      " [3 4]]\n",
      "\n",
      "\n"
     ]
    },
    {
     "ename": "ValueError",
     "evalue": "all the input arrays must have same number of dimensions",
     "output_type": "error",
     "traceback": [
      "\u001b[0;31m---------------------------------------------------------------------------\u001b[0m",
      "\u001b[0;31mValueError\u001b[0m                                Traceback (most recent call last)",
      "\u001b[0;32m<ipython-input-24-43c9644dacaf>\u001b[0m in \u001b[0;36m<module>\u001b[0;34m()\u001b[0m\n\u001b[1;32m     12\u001b[0m \u001b[0mprint\u001b[0m \u001b[0;34m(\u001b[0m\u001b[0;34m'\\n'\u001b[0m\u001b[0;34m)\u001b[0m\u001b[0;34m\u001b[0m\u001b[0m\n\u001b[1;32m     13\u001b[0m \u001b[0;34m\u001b[0m\u001b[0m\n\u001b[0;32m---> 14\u001b[0;31m \u001b[0my\u001b[0m \u001b[0;34m=\u001b[0m \u001b[0mnp\u001b[0m\u001b[0;34m.\u001b[0m\u001b[0mappend\u001b[0m\u001b[0;34m(\u001b[0m\u001b[0;34m[\u001b[0m\u001b[0mx\u001b[0m\u001b[0;34m]\u001b[0m\u001b[0;34m,\u001b[0m \u001b[0;34m[\u001b[0m\u001b[0;34m[\u001b[0m\u001b[0mi\u001b[0m\u001b[0;34m,\u001b[0m \u001b[0mj\u001b[0m\u001b[0;34m]\u001b[0m\u001b[0;34m]\u001b[0m\u001b[0;34m,\u001b[0m \u001b[0maxis\u001b[0m \u001b[0;34m=\u001b[0m \u001b[0;36m0\u001b[0m\u001b[0;34m)\u001b[0m\u001b[0;34m\u001b[0m\u001b[0m\n\u001b[0m\u001b[1;32m     15\u001b[0m \u001b[0mprint\u001b[0m \u001b[0;34m(\u001b[0m\u001b[0my\u001b[0m\u001b[0;34m)\u001b[0m\u001b[0;34m\u001b[0m\u001b[0m\n",
      "\u001b[0;32m~/anaconda3/lib/python3.6/site-packages/numpy/lib/function_base.py\u001b[0m in \u001b[0;36mappend\u001b[0;34m(arr, values, axis)\u001b[0m\n\u001b[1;32m   5150\u001b[0m         \u001b[0mvalues\u001b[0m \u001b[0;34m=\u001b[0m \u001b[0mravel\u001b[0m\u001b[0;34m(\u001b[0m\u001b[0mvalues\u001b[0m\u001b[0;34m)\u001b[0m\u001b[0;34m\u001b[0m\u001b[0m\n\u001b[1;32m   5151\u001b[0m         \u001b[0maxis\u001b[0m \u001b[0;34m=\u001b[0m \u001b[0marr\u001b[0m\u001b[0;34m.\u001b[0m\u001b[0mndim\u001b[0m\u001b[0;34m-\u001b[0m\u001b[0;36m1\u001b[0m\u001b[0;34m\u001b[0m\u001b[0m\n\u001b[0;32m-> 5152\u001b[0;31m     \u001b[0;32mreturn\u001b[0m \u001b[0mconcatenate\u001b[0m\u001b[0;34m(\u001b[0m\u001b[0;34m(\u001b[0m\u001b[0marr\u001b[0m\u001b[0;34m,\u001b[0m \u001b[0mvalues\u001b[0m\u001b[0;34m)\u001b[0m\u001b[0;34m,\u001b[0m \u001b[0maxis\u001b[0m\u001b[0;34m=\u001b[0m\u001b[0maxis\u001b[0m\u001b[0;34m)\u001b[0m\u001b[0;34m\u001b[0m\u001b[0m\n\u001b[0m",
      "\u001b[0;31mValueError\u001b[0m: all the input arrays must have same number of dimensions"
     ]
    }
   ],
   "source": [
    "import numpy as np\n",
    "i = 1\n",
    "j = 2\n",
    "x = np.array([i, j])\n",
    "\n",
    "i = 3\n",
    "j = 4\n",
    "\n",
    "x = np.append([x], [[i, j]], axis = 0)\n",
    "print (x)\n",
    "\n",
    "print ('\\n')\n",
    "\n",
    "y = np.append([x], [[i, j]], axis = 0)\n",
    "print (y)"
   ]
  },
  {
   "cell_type": "code",
   "execution_count": 25,
   "metadata": {},
   "outputs": [
    {
     "name": "stdout",
     "output_type": "stream",
     "text": [
      "[[1 2]\n",
      " [3 4]]\n",
      "[[1 2]\n",
      " [3 4]\n",
      " [3 4]]\n"
     ]
    }
   ],
   "source": [
    "import numpy as np\n",
    "i = 1\n",
    "j = 2\n",
    "x = np.array([i, j])\n",
    "\n",
    "i = 3\n",
    "j = 4\n",
    "\n",
    "x = np.vstack((x, [i, j]))\n",
    "print (x)\n",
    "\n",
    "x = np.vstack((x, [i, j]))\n",
    "print (x)"
   ]
  },
  {
   "cell_type": "code",
   "execution_count": 34,
   "metadata": {},
   "outputs": [
    {
     "name": "stdout",
     "output_type": "stream",
     "text": [
      "[[1, 2], [5, 6], [3, 4]]\n"
     ]
    }
   ],
   "source": [
    "list = [[1, 2]]\n",
    "list.append([5, 6])\n",
    "list.append([3, 4])\n",
    "#list.sort()\n",
    "print (list)"
   ]
  },
  {
   "cell_type": "code",
   "execution_count": 43,
   "metadata": {},
   "outputs": [
    {
     "data": {
      "text/plain": [
       "[(5, 1), (1, 2), (3, 4)]"
      ]
     },
     "execution_count": 43,
     "metadata": {},
     "output_type": "execute_result"
    }
   ],
   "source": [
    "import operator\n",
    "dict = {}\n",
    "dict[1] = 2 \n",
    "dict[5] = 1 \n",
    "dict[3] = 4 \n",
    "sorted_dict = sorted(dict.items(), key=operator.itemgetter(1))\n",
    "sorted_dict"
   ]
  },
  {
   "cell_type": "code",
   "execution_count": 1,
   "metadata": {},
   "outputs": [
    {
     "name": "stdout",
     "output_type": "stream",
     "text": [
      "6\n",
      "6\n"
     ]
    }
   ],
   "source": [
    "### lamda\n",
    "# ref: http://falldog7.blogspot.tw/2009/07/python-lambda.html\n",
    "\n",
    "def func(x, y, z):\n",
    "    return x + y + z\n",
    "print(func(1, 2, 3))\n",
    "\n",
    "# the same as\n",
    "func2 = lambda x,y,z : x+y+z\n",
    "print(func2(1, 2, 3))"
   ]
  },
  {
   "cell_type": "code",
   "execution_count": 7,
   "metadata": {},
   "outputs": [
    {
     "name": "stdout",
     "output_type": "stream",
     "text": [
      "Aaa!\n",
      "Bbb!\n",
      "Ccc!\n",
      "Ddd!\n",
      "None\n",
      "Aaa!\n",
      "Bbb!\n",
      "Ccc!\n",
      "Ddd!\n",
      "None\n"
     ]
    }
   ],
   "source": [
    "### lamda\n",
    "def edit_story(words, func):\n",
    "    for word in words:\n",
    "        print(func(word))\n",
    "        \n",
    "stairs = ['aaa', 'bbb', 'ccc', 'ddd']\n",
    "\n",
    "def enliven(word):\n",
    "    return word.capitalize() + '!'\n",
    "\n",
    "print(edit_story(stairs, enliven))\n",
    "# the same as\n",
    "print(edit_story(stairs, lambda word: word.capitalize() + '!'))"
   ]
  },
  {
   "cell_type": "code",
   "execution_count": 8,
   "metadata": {},
   "outputs": [
    {
     "name": "stdout",
     "output_type": "stream",
     "text": [
      "1000\n",
      "10\n"
     ]
    }
   ],
   "source": [
    "### VariableScope\n",
    "\n",
    "x = 10\n",
    "def outer():\n",
    "   x = 100         # 這是在 outer() 函式範圍的 x\n",
    "   def inner():\n",
    "       nonlocal x\n",
    "       x = 1000    # 改變的是 outer() 函式的 x\n",
    "   inner()\n",
    "   print(x)        \n",
    "\n",
    "outer()            # 顯示 1000\n",
    "print(x)           # 顯示 10"
   ]
  },
  {
   "cell_type": "code",
   "execution_count": 9,
   "metadata": {},
   "outputs": [
    {
     "name": "stdout",
     "output_type": "stream",
     "text": [
      "0123456789\n"
     ]
    }
   ],
   "source": [
    "### yield\n",
    "### http://blog.blackwhite.tw/2013/05/python-yield-generator.html\n",
    "### https://openhome.cc/Gossip/Python/YieldGenerator.html\n",
    "\n",
    "def myrange(n):\n",
    "    x = 0\n",
    "    while True:\n",
    "        yield x\n",
    "        x += 1\n",
    "        if x == n:\n",
    "            break\n",
    "\n",
    "for i in myrange(10):\n",
    "    print(i, end='')\n",
    "print()"
   ]
  },
  {
   "cell_type": "code",
   "execution_count": 15,
   "metadata": {},
   "outputs": [
    {
     "name": "stdout",
     "output_type": "stream",
     "text": [
      "123-456-789\n",
      "Justin\n",
      "50\n",
      "100\n",
      "250\n",
      "1100\n"
     ]
    }
   ],
   "source": [
    "### class definition\n",
    "class Account:\n",
    "    def __init__(self, number, name):\n",
    "        self.number = number\n",
    "        self.name = name\n",
    "        self.balance = 0\n",
    "        \n",
    "    def deposit(self, amount):\n",
    "        if amount <= 0:\n",
    "            raise ValueError('must be positive')\n",
    "        self.balance += amount\n",
    "        \n",
    "    def withdraw(self, amount):\n",
    "        if amount <= self.balance:\n",
    "            self.balance -= amount\n",
    "        else:\n",
    "            raise RuntimeError('balance not enough')\n",
    "            \n",
    "acct = Account('123-456-789', 'Justin')\n",
    "print(acct.number)    # 123-456-789\n",
    "print(acct.name)      # Justin\n",
    "\n",
    "acct1 = Account('123-456-789', 'Jenny')\n",
    "deposit1 = acct1.deposit\n",
    "withdraw1 = acct1.withdraw\n",
    "deposit1(100)\n",
    "withdraw1(50)\n",
    "print(acct1.balance)\n",
    "\n",
    "acct2 = Account('987-654-321', 'Weber')\n",
    "deposit2 = acct2.deposit\n",
    "withdraw2 = acct2.withdraw\n",
    "deposit2(200)\n",
    "withdraw2(100)\n",
    "print(acct2.balance)\n",
    "\n",
    "acct1.deposi = acct2.deposit\n",
    "acct1.deposi(1000)      # 你其實是將錢存到 acct2 去\n",
    "deposit1(200)\n",
    "print(acct1.balance)     # 50\n",
    "print(acct2.balance)     # 1100\n"
   ]
  },
  {
   "cell_type": "code",
   "execution_count": 19,
   "metadata": {},
   "outputs": [
    {
     "name": "stdout",
     "output_type": "stream",
     "text": [
      "static_foo\n",
      "1\n",
      "class_foo\n",
      "1\n",
      "foo\n"
     ]
    }
   ],
   "source": [
    "### @staticmethod v.s. @classmethod\n",
    "# http://blog.csdn.net/handsomekang/article/details/9615239\n",
    "# @staticmethod不需要表示自身对象的self和自身类的cls参数，就跟使用函数一样。\n",
    "# @classmethod也不需要self参数，但第一个参数需要是表示自身类的cls参数。\n",
    "# 如果在@staticmethod中要调用到这个类的一些属性方法，只能直接类名.属性名或类名.方法名。\n",
    "# 而@classmethod因为持有cls参数，可以来调用类的属性，类的方法，实例化对象等，避免硬编码\n",
    "\n",
    "# https://zhuanlan.zhihu.com/p/28010894\n",
    "# 如果希望在方法裡面调用静态类，那么把方法定义成类方法是合适的，\n",
    "# 因为要是定义成静态方法，那么你就要显示地引用类A，这对继承来说可不是一件好事情。\n",
    "'''\n",
    "class A:\n",
    "\n",
    "    @staticmethod\n",
    "    def m1()\n",
    "        pass\n",
    "\n",
    "    @staticmethod\n",
    "    def m2():\n",
    "        A.m1() # bad\n",
    "\n",
    "    @classmethod\n",
    "    def m3(cls):\n",
    "        cls.m1() # good\n",
    "'''\n",
    "\n",
    "\n",
    "\n",
    "class A(object):  \n",
    "    bar = 1  \n",
    "    def foo(self):  \n",
    "        print ('foo')  \n",
    " \n",
    "    @staticmethod  \n",
    "    def static_foo():  \n",
    "        print ('static_foo')  \n",
    "        print (A.bar)  \n",
    " \n",
    "    @classmethod  \n",
    "    def class_foo(cls):  \n",
    "        print ('class_foo')  \n",
    "        print (cls.bar)  \n",
    "        cls().foo()  \n",
    "  \n",
    "A.static_foo()  \n",
    "A.class_foo()  "
   ]
  }
 ],
 "metadata": {
  "kernelspec": {
   "display_name": "Python 3",
   "language": "python",
   "name": "python3"
  },
  "language_info": {
   "codemirror_mode": {
    "name": "ipython",
    "version": 3
   },
   "file_extension": ".py",
   "mimetype": "text/x-python",
   "name": "python",
   "nbconvert_exporter": "python",
   "pygments_lexer": "ipython3",
   "version": "3.6.3"
  }
 },
 "nbformat": 4,
 "nbformat_minor": 2
}
