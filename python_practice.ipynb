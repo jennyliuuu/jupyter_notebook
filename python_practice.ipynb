{
 "cells": [
  {
   "cell_type": "code",
   "execution_count": 2,
   "metadata": {},
   "outputs": [
    {
     "name": "stdout",
     "output_type": "stream",
     "text": [
      "(8+5j)\n"
     ]
    },
    {
     "data": {
      "text/plain": [
       "complex"
      ]
     },
     "execution_count": 2,
     "metadata": {},
     "output_type": "execute_result"
    }
   ],
   "source": [
    "a = 3 + 2j\n",
    "b = 5 + 3j\n",
    "c = a + b\n",
    "print (c)\n",
    "type(c)"
   ]
  },
  {
   "cell_type": "code",
   "execution_count": 3,
   "metadata": {},
   "outputs": [
    {
     "name": "stdout",
     "output_type": "stream",
     "text": [
      "J-u-s-t-i-n-"
     ]
    }
   ],
   "source": [
    "for c in 'Justin':\n",
    "    print(c, end='-')"
   ]
  },
  {
   "cell_type": "code",
   "execution_count": 4,
   "metadata": {},
   "outputs": [
    {
     "ename": "TypeError",
     "evalue": "must be str, not int",
     "output_type": "error",
     "traceback": [
      "\u001b[0;31m---------------------------------------------------------------------------\u001b[0m",
      "\u001b[0;31mTypeError\u001b[0m                                 Traceback (most recent call last)",
      "\u001b[0;32m<ipython-input-4-f8bf7911ee58>\u001b[0m in \u001b[0;36m<module>\u001b[0;34m()\u001b[0m\n\u001b[0;32m----> 1\u001b[0;31m \u001b[0;34m'score: '\u001b[0m \u001b[0;34m+\u001b[0m \u001b[0;36m90\u001b[0m\u001b[0;34m\u001b[0m\u001b[0m\n\u001b[0m",
      "\u001b[0;31mTypeError\u001b[0m: must be str, not int"
     ]
    }
   ],
   "source": [
    "'score: ' + 90"
   ]
  },
  {
   "cell_type": "code",
   "execution_count": 5,
   "metadata": {},
   "outputs": [
    {
     "data": {
      "text/plain": [
       "'score: 90'"
      ]
     },
     "execution_count": 5,
     "metadata": {},
     "output_type": "execute_result"
    }
   ],
   "source": [
    "'score: ' + str(90)"
   ]
  },
  {
   "cell_type": "code",
   "execution_count": 9,
   "metadata": {},
   "outputs": [
    {
     "name": "stdout",
     "output_type": "stream",
     "text": [
      "nitsuJ\n",
      "JUSTIN\n",
      "justin\n"
     ]
    }
   ],
   "source": [
    "# reverse the string \n",
    "name = 'Justin'\n",
    "print ( name[::-1] )\n",
    "print ( name.upper() )\n",
    "print ( name.lower() )"
   ]
  },
  {
   "cell_type": "code",
   "execution_count": 20,
   "metadata": {},
   "outputs": [
    {
     "name": "stdout",
     "output_type": "stream",
     "text": [
      "[[1, 2, 3], [4, 5, 6]]\n",
      "[[1, 20, 3], [4, 5, 6]]\n",
      "[[1, 20, 3], [4, 5, 6], [7, 8, 9]]\n"
     ]
    }
   ],
   "source": [
    "#注意對於串列的切片運算，並不是複製元素，\n",
    "#而是建立一個新串列，而後將原串列中的每個元素，給新串列中指定的索引來參考。例如：\n",
    "list6 = [[1, 2, 3], [4, 5, 6], [7, 8, 9]]\n",
    "i1 = list6[0:2]\n",
    "print(i1)\n",
    "i1[0][1] = 20\n",
    "print(i1)\n",
    "print(list6)"
   ]
  },
  {
   "cell_type": "code",
   "execution_count": 21,
   "metadata": {},
   "outputs": [
    {
     "name": "stdout",
     "output_type": "stream",
     "text": [
      "[[1, 2, 3], [4, 5, 6], [7, 8, 9]]\n",
      "[[1, 2, 3], [4, 5, 60], [7, 8, 9]]\n",
      "[[1, 2, 3], [4, 5, 60], [7, 8, 9]]\n"
     ]
    }
   ],
   "source": [
    "#如果對串列使用[:]，則就相當於建立一個新串列，\n",
    "#串列中每個索引位置皆參考到舊串列中每個索引位置的元素，也就是進行所謂的淺層複製（Shallow copy）：\n",
    "list6 = [[1, 2, 3], [4, 5, 6], [7, 8, 9]]\n",
    "list7 = list6[:]\n",
    "print(list7)\n",
    "\n",
    "list7[1][2] = 60\n",
    "print(list7)\n",
    "print(list6)"
   ]
  },
  {
   "cell_type": "code",
   "execution_count": 23,
   "metadata": {},
   "outputs": [
    {
     "name": "stdout",
     "output_type": "stream",
     "text": [
      "[1, 3, 6, 7, 8]\n",
      "[8, 7, 6, 3, 1]\n",
      "['a', 'b', 'w', 'x']\n"
     ]
    }
   ],
   "source": [
    "# list sort\n",
    "list13 = [6, 1, 7, 3, 8]\n",
    "list13.sort()\n",
    "print(list13)\n",
    "list13.sort(reverse=True)\n",
    "print(list13)\n",
    "\n",
    "list14 = ['a', 'w', 'x', 'b']\n",
    "list14.sort()\n",
    "print(list14)"
   ]
  },
  {
   "cell_type": "code",
   "execution_count": 24,
   "metadata": {},
   "outputs": [
    {
     "name": "stdout",
     "output_type": "stream",
     "text": [
      "True\n",
      "{'Justin'}\n",
      "{'momor', 'caterpillar', 'Justin', 'hamini'}\n",
      "{'caterpillar'}\n",
      "{'momor', 'caterpillar', 'hamini'}\n",
      "False\n",
      "False\n"
     ]
    }
   ],
   "source": [
    "admins = {'Justin', 'caterpillar'}\n",
    "users = {'momor', 'hamini', 'Justin'}\n",
    "\n",
    "print('Justin' in admins)\n",
    "print(admins & users)\n",
    "print(admins | users)\n",
    "print(admins - users)\n",
    "print(admins ^ users)\n",
    "print(admins > users)  # 使用>測試左集合是否為右集合的父集\n",
    "print(admins < users)"
   ]
  },
  {
   "cell_type": "code",
   "execution_count": 25,
   "metadata": {},
   "outputs": [
    {
     "name": "stdout",
     "output_type": "stream",
     "text": [
      "{'Justin', 'Momor', 'Hamini'}\n",
      "{'Justin', 'Momor', 'Hamini'}\n"
     ]
    }
   ],
   "source": [
    "family = {'Justin'}\n",
    "family.update({'Momor', 'Hamini'})\n",
    "print(family)\n",
    "\n",
    "# the same as\n",
    "family = {'Justin'}\n",
    "for person in {'Momor', 'Hamini'}:\n",
    "    family.add(person)\n",
    "print(family)"
   ]
  }
 ],
 "metadata": {
  "kernelspec": {
   "display_name": "Python 3",
   "language": "python",
   "name": "python3"
  },
  "language_info": {
   "codemirror_mode": {
    "name": "ipython",
    "version": 3
   },
   "file_extension": ".py",
   "mimetype": "text/x-python",
   "name": "python",
   "nbconvert_exporter": "python",
   "pygments_lexer": "ipython3",
   "version": "3.6.3"
  }
 },
 "nbformat": 4,
 "nbformat_minor": 2
}
